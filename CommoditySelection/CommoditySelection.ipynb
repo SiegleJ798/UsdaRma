{
 "cells": [
  {
   "cell_type": "code",
   "execution_count": null,
   "id": "2ed4b77c",
   "metadata": {},
   "outputs": [],
   "source": [
    "import pandas as pd\n",
    "df = pd.read_csv('D:\\SoB\\MainSoB.csv',sep=\",\",header=0, index_col=False)\n",
    "df = df.drop(df.columns[0], axis=1)"
   ]
  },
  {
   "cell_type": "code",
   "execution_count": null,
   "id": "ab77d8f6",
   "metadata": {},
   "outputs": [],
   "source": [
    "df.head()"
   ]
  },
  {
   "cell_type": "code",
   "execution_count": null,
   "id": "2ea344cc",
   "metadata": {},
   "outputs": [],
   "source": [
    "#Drop Irrelevant Rows\n",
    "print(len(df))\n",
    "Territories_To_Drop = [2, 11, 15, 72, 78]\n",
    "df = df[~df['State.Code'].isin(Territories_To_Drop)]\n",
    "#Drops Alaska, DC, Hawaii, Puerto Rico and the Virgin Islands\n",
    "print(len(df))\n",
    "df = df[~(df['Commodity.Code']==9999)]\n",
    "# Drop the \"Other\" Commodity\n",
    "df = df[df['Quantity.Type'].str.strip()=='Acres']\n",
    "# Drops Trees, Clams, Raisins, Non/Plant\n",
    "print(len(df))"
   ]
  },
  {
   "cell_type": "code",
   "execution_count": null,
   "id": "8743de5a",
   "metadata": {},
   "outputs": [],
   "source": [
    "# Function to add leading 0 to a string if its length is smaller than the maximum length in the column\n",
    "def add_leading_zero(column):\n",
    "    max_length = df[column].astype(str).str.len().max()\n",
    "    return df[column].astype(str).apply( lambda string: string.zfill(max_length) if len(string) < max_length else string)"
   ]
  },
  {
   "cell_type": "code",
   "execution_count": null,
   "id": "0c1e3825",
   "metadata": {},
   "outputs": [],
   "source": [
    "#Create FIPS out of state and county components\n",
    "df['FIPS']=add_leading_zero('State.Code')+add_leading_zero('County.Code')\n",
    "df.tail()"
   ]
  },
  {
   "cell_type": "code",
   "execution_count": null,
   "id": "5b3a338b",
   "metadata": {},
   "outputs": [],
   "source": [
    "#ID is Year x County tuple. Use FIPS to get what we mean when we say County\n",
    "df['ID']=df['Year'].astype(str)+'_'+df['FIPS']\n",
    "print(df['ID'].nunique())\n",
    "CommodityCombinations=df.groupby('ID')['Commodity.Code'].agg(frozenset).value_counts()\n",
    "#Gets each combination of remaining commodity codes for initial inspection. \n",
    "#No immediate favorites. Will have missing values problem. But can minimize it?"
   ]
  },
  {
   "cell_type": "code",
   "execution_count": null,
   "id": "7db13991",
   "metadata": {},
   "outputs": [],
   "source": [
    "CommodityCombinations"
   ]
  },
  {
   "cell_type": "code",
   "execution_count": null,
   "id": "f7cee2cc",
   "metadata": {},
   "outputs": [],
   "source": [
    "# Generate List of Overlapping Commodities\n",
    "\n",
    "#import pandas as pd\n",
    "\n",
    "# Step 1: Group the DataFrame by 'ID' and aggregate 'Commodity' as a set\n",
    "grouped = df.groupby('ID')['Commodity.Code'].agg(set).reset_index()\n",
    "\n",
    "# Step 2: Create a dictionary to store commodity frequency counts\n",
    "commodity_counts = {}\n",
    "\n",
    "# Step 3: Iterate over rows and update commodity count dictionary\n",
    "for _, row in grouped.iterrows():\n",
    "    commodities = row['Commodity.Code']\n",
    "    for commodity in commodities:\n",
    "        if commodity in commodity_counts:\n",
    "            commodity_counts[commodity] += 1\n",
    "        else:\n",
    "            commodity_counts[commodity] = 1\n",
    "\n",
    "# Step 4: Sort commodities based on frequency count in descending order\n",
    "sorted_commodities = sorted(commodity_counts, key=commodity_counts.get, reverse=True)\n",
    "\n",
    "# Step 5: Select commodities with shared IDs while limiting missing values\n",
    "selected_commodities = []\n",
    "selected_ids = set()\n",
    "\n",
    "for commodity in sorted_commodities:\n",
    "    # Get IDs for the current commodity\n",
    "    ids = set(grouped[grouped['Commodity.Code'].apply(lambda x: commodity in x)]['ID'])\n",
    "    \n",
    "    # Find common IDs with previously selected commodities\n",
    "    common_ids = ids.intersection(selected_ids)\n",
    "    \n",
    "    # Check if including this commodity increases the length of selected list\n",
    "    if len(common_ids) < len(selected_commodities):\n",
    "        continue\n",
    "    \n",
    "    # Update selected IDs and commodities\n",
    "    selected_ids.update(ids)\n",
    "    selected_commodities.append(commodity)"
   ]
  },
  {
   "cell_type": "code",
   "execution_count": null,
   "id": "f2b0f207",
   "metadata": {},
   "outputs": [],
   "source": [
    "#Will check the above against which commodities have significant total presence in the FCIP\n",
    "#Generate list of most insured crops by total acres\n",
    "totaled_df = df.groupby('Commodity.Code')['Net.Planted.Quantity'].sum().sort_values(ascending=False).reset_index()\n",
    "totaled_df.to_csv('TotalInsuredQuantity.csv',index=True)"
   ]
  },
  {
   "cell_type": "code",
   "execution_count": null,
   "id": "1755d220",
   "metadata": {},
   "outputs": [],
   "source": [
    "OverlappingAlgorithmCommodities = selected_commodities[:20]\n",
    "HighlyInsuredCommodities = totaled_df['Commodity.Code'].tolist()[:20]\n",
    "temp = set(OverlappingAlgorithmCommodities+HighlyInsuredCommodities)# List of Commodity.Codes\n",
    "\n",
    "# Set 'Commodity.Code' as the index and select 'Commodity.Name' column\n",
    "code_name_df = df.set_index('Commodity.Code')['Commodity.Name']\n",
    "\n",
    "# Create a dictionary using the code_name_df DataFrame\n",
    "code_name_dict = code_name_df.to_dict()\n",
    "\n",
    "# Filter the dictionary for the specified codes\n",
    "filtered_dict = {code: code_name_dict.get(code) for code in temp}"
   ]
  },
  {
   "cell_type": "code",
   "execution_count": null,
   "id": "1e88c233",
   "metadata": {},
   "outputs": [],
   "source": [
    "labels = [filtered_dict.get(item) for item in OverlappingAlgorithmCommodities]\n",
    "OverlappingAlgorithmComms= pd.DataFrame(zip(OverlappingAlgorithmCommodities,labels), columns=['Values','Label'])"
   ]
  },
  {
   "cell_type": "code",
   "execution_count": null,
   "id": "ed8c4674",
   "metadata": {},
   "outputs": [],
   "source": [
    "OverlappingAlgorithmComms"
   ]
  },
  {
   "cell_type": "code",
   "execution_count": null,
   "id": "3926d975",
   "metadata": {},
   "outputs": [],
   "source": [
    "labels = [filtered_dict.get(item) for item in HighlyInsuredCommodities]\n",
    "HighlyInsuredComms= pd.DataFrame(zip(HighlyInsuredCommodities,labels), columns=['Values','Label'])"
   ]
  },
  {
   "cell_type": "code",
   "execution_count": null,
   "id": "80a90ec7",
   "metadata": {},
   "outputs": [],
   "source": [
    "HighlyInsuredComms"
   ]
  },
  {
   "cell_type": "code",
   "execution_count": null,
   "id": "3e1c1f38",
   "metadata": {},
   "outputs": [],
   "source": [
    "#Attach the Rank of most insured crops to the list of most overlapping crops\n",
    "HighlyInsuredComms['Rank'] = HighlyInsuredComms.index+1\n",
    "temp= pd.DataFrame(HighlyInsuredComms[['Values','Rank']])\n",
    "merged_comms = OverlappingAlgorithmComms.merge(temp, on='Values', how='left')\n",
    "merged_comms.rename(columns={'Values':'Commodity.Code','Label':'Commodity.Name','Rank':'Quantity.Insured.Rank'},inplace=True)\n",
    "merged_comms"
   ]
  },
  {
   "cell_type": "code",
   "execution_count": null,
   "id": "2e7640f2",
   "metadata": {},
   "outputs": [],
   "source": [
    "#Based on these results, I suggest Corn, Wheat, Soybeans, Grain Sorghum, and Barley as commonly insured staples for our analysis\n",
    "#Cotton and Rangeland should also be included, tentatively, due to high available overlap\n",
    "values_list=[41,11,81,51,88,91,21]\n",
    "Final=merged_comms[merged_comms['Commodity.Code'].isin(values_list)]\n",
    "Final.to_csv('SelectedCommodities.csv',index=True)\n",
    "Final"
   ]
  },
  {
   "cell_type": "code",
   "execution_count": null,
   "id": "96eca647",
   "metadata": {},
   "outputs": [],
   "source": [
    "# Counterarguments\n",
    "#Why only within county? Could assign each county itself and neighboring counties in order to have fewer missing commodities, more interesting divergence\n",
    "#Food for thought for future"
   ]
  }
 ],
 "metadata": {
  "kernelspec": {
   "display_name": "Python 3 (ipykernel)",
   "language": "python",
   "name": "python3"
  },
  "language_info": {
   "codemirror_mode": {
    "name": "ipython",
    "version": 3
   },
   "file_extension": ".py",
   "mimetype": "text/x-python",
   "name": "python",
   "nbconvert_exporter": "python",
   "pygments_lexer": "ipython3",
   "version": "3.10.9"
  }
 },
 "nbformat": 4,
 "nbformat_minor": 5
}
